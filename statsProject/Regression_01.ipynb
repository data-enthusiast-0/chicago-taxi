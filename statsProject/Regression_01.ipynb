{
 "cells": [
  {
   "cell_type": "code",
   "execution_count": 1,
   "metadata": {},
   "outputs": [
    {
     "data": {
      "text/plain": [
       "2"
      ]
     },
     "execution_count": 1,
     "metadata": {},
     "output_type": "execute_result"
    }
   ],
   "source": [
    "1 + 1\n"
   ]
  },
  {
   "cell_type": "code",
   "execution_count": 35,
   "metadata": {
    "scrolled": false
   },
   "outputs": [
    {
     "name": "stdout",
     "output_type": "stream",
     "text": [
      "                                     TripID    TripDate  TripTime  TripMonth  \\\n",
      "0  8b072199064a641d2b1092308d8112076d6b3c3f  11/14/2013  08:45:00         11   \n",
      "1  8b0721ee33c97c17d6229f0aaf16cadd26dc99bd  11/14/2013  09:00:00         11   \n",
      "2  8b07293a564e3cb297270ec187789732af151328  07/11/2013  12:00:00          7   \n",
      "3  8b072a98a212e7b95ad83112b140a5437ff65f1c  03/26/2013  04:00:00          3   \n",
      "4  8b072d9e5e5d74abb967bd3adb40f007eff042fb  08/19/2013  03:15:00          8   \n",
      "\n",
      "   TripYear  TripSeconds  TripMiles  TripFare  TripTips  TripTolls  \\\n",
      "0      2013          300        0.0      5.45      2.00        0.0   \n",
      "1      2013         2400       12.8     28.45     15.00        0.0   \n",
      "2      2013          480        0.0      6.85      3.00        0.0   \n",
      "3      2013          600        2.0      7.85      2.00        0.0   \n",
      "4      2013          720        4.5     11.85      2.35        0.0   \n",
      "\n",
      "   TripExtras  TripTotal  PaymentType  TripTipPercent  Payment  \n",
      "0         0.0       7.45  Credit Card         36.6972        1  \n",
      "1         2.0      45.45  Credit Card         52.7240        1  \n",
      "2         0.0       9.85  Credit Card         43.7956        1  \n",
      "3         0.0       9.85  Credit Card         25.4777        1  \n",
      "4         0.0      14.20  Credit Card         19.8312        1  \n"
     ]
    },
    {
     "data": {
      "text/plain": [
       "<matplotlib.axes._subplots.AxesSubplot at 0x1c31c55898>"
      ]
     },
     "execution_count": 35,
     "metadata": {},
     "output_type": "execute_result"
    },
    {
     "data": {
      "image/png": "[encoded data removed]",
      "text/plain": [
       "<Figure size 432x288 with 1 Axes>"
      ]
     },
     "metadata": {
      "needs_background": "light"
     },
     "output_type": "display_data"
    }
   ],
   "source": [
    "import pandas as pd \n",
    "import numpy as numpy\n",
    "import matplotlib.pyplot as plt\n",
    "import seaborn as sns\n",
    "%matplotlib inline\n",
    "\n",
    "import statsmodels.api as sm\n",
    "\n",
    "\n",
    "# exec(%matplotlib inline)\n",
    "# ipython.magic('matplotlib','inline')\n",
    "\n",
    "\n",
    "data = pd.read_csv('Taxi_Data_Reg2_2013.csv')\n",
    "\n",
    "# define the data/predictors as the pre-set feature names  \n",
    "# df = pd.DataFrame(data, columns=data.feature_names)\n",
    "\n",
    "# Put the target (Y Value) in another DataFrame\n",
    "# target = pd.DataFrame(data.target, columns=[\"TripTipPercent\"])\n",
    "\n",
    "# print (data)\n",
    "print (data.head())\n",
    "# print (data.hist())\n",
    "# data.info()\n",
    "# data.describe()\n",
    "# data.columns\n",
    "\n",
    "# sns.pairplot(data)\n",
    "sns.distplot(data['TripTipPercent'])\n"
   ]
  },
  {
   "cell_type": "code",
   "execution_count": 5,
   "metadata": {},
   "outputs": [
    {
     "ename": "SyntaxError",
     "evalue": "invalid syntax (<ipython-input-5-60daf919d2f3>, line 1)",
     "output_type": "error",
     "traceback": [
      "\u001b[0;36m  File \u001b[0;32m\"<ipython-input-5-60daf919d2f3>\"\u001b[0;36m, line \u001b[0;32m1\u001b[0m\n\u001b[0;31m    python3 pyLinear.py\u001b[0m\n\u001b[0m                   ^\u001b[0m\n\u001b[0;31mSyntaxError\u001b[0m\u001b[0;31m:\u001b[0m invalid syntax\n"
     ]
    }
   ],
   "source": [
    "python3 pyLinear.py"
   ]
  },
  {
   "cell_type": "code",
   "execution_count": 10,
   "metadata": {},
   "outputs": [
    {
     "ename": "SyntaxError",
     "evalue": "invalid syntax (<ipython-input-10-e6da8be7c08f>, line 1)",
     "output_type": "error",
     "traceback": [
      "\u001b[0;36m  File \u001b[0;32m\"<ipython-input-10-e6da8be7c08f>\"\u001b[0;36m, line \u001b[0;32m1\u001b[0m\n\u001b[0;31m    python3 pyLinear\u001b[0m\n\u001b[0m                   ^\u001b[0m\n\u001b[0;31mSyntaxError\u001b[0m\u001b[0;31m:\u001b[0m invalid syntax\n"
     ]
    }
   ],
   "source": [
    "python3 pyLinear\n"
   ]
  },
  {
   "cell_type": "code",
   "execution_count": 7,
   "metadata": {},
   "outputs": [
    {
     "ename": "SyntaxError",
     "evalue": "invalid syntax (<ipython-input-7-dbc6993046e8>, line 1)",
     "output_type": "error",
     "traceback": [
      "\u001b[0;36m  File \u001b[0;32m\"<ipython-input-7-dbc6993046e8>\"\u001b[0;36m, line \u001b[0;32m1\u001b[0m\n\u001b[0;31m    python3 pyLinear.py()\u001b[0m\n\u001b[0m                   ^\u001b[0m\n\u001b[0;31mSyntaxError\u001b[0m\u001b[0;31m:\u001b[0m invalid syntax\n"
     ]
    }
   ],
   "source": [
    "python3 pyLinear.py()\n"
   ]
  },
  {
   "cell_type": "code",
   "execution_count": 9,
   "metadata": {},
   "outputs": [],
   "source": [
    "## Run Python Script\n"
   ]
  },
  {
   "cell_type": "code",
   "execution_count": 34,
   "metadata": {
    "scrolled": false
   },
   "outputs": [
    {
     "name": "stdout",
     "output_type": "stream",
     "text": [
      "                                     TripID    TripDate  TripTime  TripMonth  \\\n",
      "0  8b072199064a641d2b1092308d8112076d6b3c3f  11/14/2013  08:45:00         11   \n",
      "1  8b0721ee33c97c17d6229f0aaf16cadd26dc99bd  11/14/2013  09:00:00         11   \n",
      "2  8b07293a564e3cb297270ec187789732af151328  07/11/2013  12:00:00          7   \n",
      "3  8b072a98a212e7b95ad83112b140a5437ff65f1c  03/26/2013  04:00:00          3   \n",
      "4  8b072d9e5e5d74abb967bd3adb40f007eff042fb  08/19/2013  03:15:00          8   \n",
      "\n",
      "   TripYear  TripSeconds  TripMiles  TripFare  TripTips  TripTolls  \\\n",
      "0      2013          300        0.0      5.45      2.00        0.0   \n",
      "1      2013         2400       12.8     28.45     15.00        0.0   \n",
      "2      2013          480        0.0      6.85      3.00        0.0   \n",
      "3      2013          600        2.0      7.85      2.00        0.0   \n",
      "4      2013          720        4.5     11.85      2.35        0.0   \n",
      "\n",
      "   TripExtras  TripTotal  PaymentType  TripTipPercent  Payment  \n",
      "0         0.0       7.45  Credit Card         36.6972        1  \n",
      "1         2.0      45.45  Credit Card         52.7240        1  \n",
      "2         0.0       9.85  Credit Card         43.7956        1  \n",
      "3         0.0       9.85  Credit Card         25.4777        1  \n",
      "4         0.0      14.20  Credit Card         19.8312        1  \n"
     ]
    },
    {
     "data": {
      "image/png": "[encoded data removed]",
      "text/plain": [
       "<Figure size 432x288 with 1 Axes>"
      ]
     },
     "metadata": {
      "needs_background": "light"
     },
     "output_type": "display_data"
    },
    {
     "data": {
      "image/png": "[encoded data removed]",
      "text/plain": [
       "<Figure size 432x288 with 1 Axes>"
      ]
     },
     "metadata": {
      "needs_background": "light"
     },
     "output_type": "display_data"
    }
   ],
   "source": [
    "n"
   ]
  }
 ],
 "metadata": {
  "kernelspec": {
   "display_name": "Python 3",
   "language": "python",
   "name": "python3"
  },
  "language_info": {
   "codemirror_mode": {
    "name": "ipython",
    "version": 3
   },
   "file_extension": ".py",
   "mimetype": "text/x-python",
   "name": "python",
   "nbconvert_exporter": "python",
   "pygments_lexer": "ipython3",
   "version": "3.7.3"
  }
 },
 "nbformat": 4,
 "nbformat_minor": 2
}
